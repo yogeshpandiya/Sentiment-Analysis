{
 "cells": [
  {
   "cell_type": "code",
   "execution_count": 1,
   "id": "84bf35c1",
   "metadata": {},
   "outputs": [],
   "source": [
    "import pandas as pd"
   ]
  },
  {
   "cell_type": "code",
   "execution_count": 2,
   "id": "92f27250",
   "metadata": {},
   "outputs": [],
   "source": [
    "df = pd.read_csv(\"Dataset.csv\")"
   ]
  },
  {
   "cell_type": "code",
   "execution_count": 9,
   "id": "2d85f52f",
   "metadata": {},
   "outputs": [],
   "source": [
    "import re\n",
    "import nltk\n",
    "from nltk.corpus import stopwords\n",
    "from nltk.stem.porter import PorterStemmer\n",
    "ps= PorterStemmer()\n",
    "stop_words=stopwords.words('english')\n",
    "stop_words.remove('not')"
   ]
  },
  {
   "cell_type": "code",
   "execution_count": 10,
   "id": "70c9dd86",
   "metadata": {},
   "outputs": [],
   "source": [
    "list =[]"
   ]
  },
  {
   "cell_type": "code",
   "execution_count": 11,
   "id": "7a0ccb59",
   "metadata": {},
   "outputs": [],
   "source": [
    "for i in range(100):\n",
    "    a = df['review'][i]\n",
    "    a = re.sub(r'[^\\w\\s]', '', a)\n",
    "    a =a.lower()\n",
    "    a = a.split()\n",
    "    a= [word for word in a if not word in stopwords.words()]\n",
    "    #[ps.stem(word) for word in k if not word in set(stopwords.words)]\n",
    "    #print(a)\n",
    "    b= len(a)\n",
    "    l=[]\n",
    "    for j in range(b):\n",
    "        #c = ps.stem(a[i])\n",
    "        k=ps.stem(a[j])\n",
    "        #print(k)\n",
    "        l.append(k)\n",
    "    #print(l)\n",
    "    o = ' '.join(l)\n",
    "    #print(o)\n",
    "    list.append(o)\n",
    "    "
   ]
  },
  {
   "cell_type": "code",
   "execution_count": 12,
   "id": "8d7db8ea",
   "metadata": {},
   "outputs": [],
   "source": [
    "from sklearn.feature_extraction.text import CountVectorizer"
   ]
  },
  {
   "cell_type": "code",
   "execution_count": 13,
   "id": "ffbb55d8",
   "metadata": {},
   "outputs": [],
   "source": [
    "cv = CountVectorizer(max_features= 1420)"
   ]
  },
  {
   "cell_type": "code",
   "execution_count": 14,
   "id": "52ea400e",
   "metadata": {},
   "outputs": [],
   "source": [
    "df = pd.read_csv(\"IMDB Dataset.csv\")\n",
    "df = df.iloc[:100]"
   ]
  },
  {
   "cell_type": "code",
   "execution_count": 15,
   "id": "2d42a1a5",
   "metadata": {},
   "outputs": [
    {
     "data": {
      "text/plain": [
       "0    0\n",
       "1    0\n",
       "2    0\n",
       "3    1\n",
       "4    0\n",
       "Name: p_n, dtype: int64"
      ]
     },
     "execution_count": 15,
     "metadata": {},
     "output_type": "execute_result"
    }
   ],
   "source": [
    "df['p_n'].head()"
   ]
  },
  {
   "cell_type": "code",
   "execution_count": 16,
   "id": "d336aa9c",
   "metadata": {},
   "outputs": [],
   "source": [
    "inputs=cv.fit_transform(list).toarray() # review\n",
    "target= df.iloc[:,-1].values #sentiment"
   ]
  },
  {
   "cell_type": "code",
   "execution_count": null,
   "id": "69229f53",
   "metadata": {},
   "outputs": [],
   "source": []
  },
  {
   "cell_type": "code",
   "execution_count": 17,
   "id": "e6795569",
   "metadata": {},
   "outputs": [],
   "source": [
    "from sklearn.model_selection import train_test_split\n",
    "inputs_train, inputs_test, target_train, target_test = train_test_split(inputs,target,train_size=0.9)"
   ]
  },
  {
   "cell_type": "code",
   "execution_count": 18,
   "id": "753c99b4",
   "metadata": {},
   "outputs": [],
   "source": [
    "from sklearn.naive_bayes import GaussianNB"
   ]
  },
  {
   "cell_type": "code",
   "execution_count": 19,
   "id": "b2bb7287",
   "metadata": {},
   "outputs": [
    {
     "data": {
      "text/plain": [
       "GaussianNB()"
      ]
     },
     "execution_count": 19,
     "metadata": {},
     "output_type": "execute_result"
    }
   ],
   "source": [
    "model=GaussianNB()\n",
    "model.fit(inputs_train, target_train)"
   ]
  },
  {
   "cell_type": "code",
   "execution_count": 20,
   "id": "194e8e84",
   "metadata": {},
   "outputs": [
    {
     "data": {
      "text/plain": [
       "0.6666666666666666"
      ]
     },
     "execution_count": 20,
     "metadata": {},
     "output_type": "execute_result"
    }
   ],
   "source": [
    "model.score(inputs_test, target_test)"
   ]
  },
  {
   "cell_type": "code",
   "execution_count": 21,
   "id": "3a98493b",
   "metadata": {},
   "outputs": [
    {
     "data": {
      "text/plain": [
       "array([1, 0, 0], dtype=int64)"
      ]
     },
     "execution_count": 21,
     "metadata": {},
     "output_type": "execute_result"
    }
   ],
   "source": [
    "model.predict(inputs_test)"
   ]
  },
  {
   "cell_type": "code",
   "execution_count": 22,
   "id": "9ee725cd",
   "metadata": {},
   "outputs": [
    {
     "data": {
      "text/plain": [
       "array([1, 1, 0], dtype=int64)"
      ]
     },
     "execution_count": 22,
     "metadata": {},
     "output_type": "execute_result"
    }
   ],
   "source": [
    "target_test"
   ]
  },
  {
   "cell_type": "code",
   "execution_count": 23,
   "id": "8ab4e45b",
   "metadata": {},
   "outputs": [
    {
     "data": {
      "text/plain": [
       "array([1, 0, 1, 0, 0, 0, 0, 1, 0, 1, 0, 0, 1, 1, 0, 1, 1, 0, 1, 1, 0, 1,\n",
       "       0, 0, 1, 0, 1], dtype=int64)"
      ]
     },
     "execution_count": 23,
     "metadata": {},
     "output_type": "execute_result"
    }
   ],
   "source": [
    "target_train"
   ]
  },
  {
   "cell_type": "code",
   "execution_count": 24,
   "id": "f1483ec6",
   "metadata": {
    "scrolled": true
   },
   "outputs": [
    {
     "data": {
      "text/plain": [
       "array([[0, 1, 0, ..., 0, 0, 0],\n",
       "       [0, 0, 0, ..., 0, 0, 0],\n",
       "       [0, 0, 0, ..., 0, 0, 0],\n",
       "       ...,\n",
       "       [0, 0, 0, ..., 0, 0, 0],\n",
       "       [0, 0, 0, ..., 0, 0, 0],\n",
       "       [0, 0, 2, ..., 0, 0, 0]], dtype=int64)"
      ]
     },
     "execution_count": 24,
     "metadata": {},
     "output_type": "execute_result"
    }
   ],
   "source": [
    "inputs_train"
   ]
  },
  {
   "cell_type": "code",
   "execution_count": null,
   "id": "ccac13d5",
   "metadata": {},
   "outputs": [],
   "source": []
  }
 ],
 "metadata": {
  "kernelspec": {
   "display_name": "Python 3 (ipykernel)",
   "language": "python",
   "name": "python3"
  },
  "language_info": {
   "codemirror_mode": {
    "name": "ipython",
    "version": 3
   },
   "file_extension": ".py",
   "mimetype": "text/x-python",
   "name": "python",
   "nbconvert_exporter": "python",
   "pygments_lexer": "ipython3",
   "version": "3.8.5"
  }
 },
 "nbformat": 4,
 "nbformat_minor": 5
}
