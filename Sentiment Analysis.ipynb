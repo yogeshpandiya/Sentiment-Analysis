{
 "cells": [
  {
   "cell_type": "code",
   "execution_count": 1,
   "id": "84bf35c1",
   "metadata": {},
   "outputs": [],
   "source": [
    "import pandas as pd"
   ]
  },
  {
   "cell_type": "code",
   "execution_count": 2,
   "id": "92f27250",
   "metadata": {},
   "outputs": [],
   "source": [
    "df = pd.read_csv(\"IMDB Dataset.csv\")"
   ]
  },
  {
   "cell_type": "code",
   "execution_count": 3,
   "id": "2d85f52f",
   "metadata": {},
   "outputs": [],
   "source": [
    "import re\n",
    "import nltk\n",
    "from nltk.corpus import stopwords\n",
    "from nltk.stem.porter import PorterStemmer\n",
    "ps= PorterStemmer()\n",
    "stop_words=stopwords.words('english')\n",
    "stop_words.remove('not')"
   ]
  },
  {
   "cell_type": "code",
   "execution_count": 4,
   "id": "70c9dd86",
   "metadata": {},
   "outputs": [],
   "source": [
    "list =[]"
   ]
  },
  {
   "cell_type": "markdown",
   "id": "406002bd",
   "metadata": {},
   "source": [
    "I'm using only frst 40 review you can take as many as possible"
   ]
  },
  {
   "cell_type": "code",
   "execution_count": 5,
   "id": "7a0ccb59",
   "metadata": {},
   "outputs": [],
   "source": [
    "for i in range(40):\n",
    "    a = df['review'][i]\n",
    "    a = re.sub(r'[^\\w\\s]', '', a)\n",
    "    a =a.lower()\n",
    "    a = a.split()\n",
    "    a= [word for word in a if not word in stopwords.words()]\n",
    "    #[ps.stem(word) for word in k if not word in set(stopwords.words)]\n",
    "    #print(a)\n",
    "    b= len(a)\n",
    "    l=[]\n",
    "    for j in range(b):\n",
    "        #c = ps.stem(a[i])\n",
    "        k=ps.stem(a[j])\n",
    "        #print(k)\n",
    "        l.append(k)\n",
    "    #print(l)\n",
    "    o = ' '.join(l)\n",
    "    #print(o)\n",
    "    list.append(o)\n",
    "    "
   ]
  },
  {
   "cell_type": "code",
   "execution_count": 6,
   "id": "8d7db8ea",
   "metadata": {},
   "outputs": [],
   "source": [
    "from sklearn.feature_extraction.text import CountVectorizer"
   ]
  },
  {
   "cell_type": "code",
   "execution_count": 7,
   "id": "ffbb55d8",
   "metadata": {},
   "outputs": [],
   "source": [
    "cv = CountVectorizer(max_features= 1420)"
   ]
  },
  {
   "cell_type": "code",
   "execution_count": 8,
   "id": "52ea400e",
   "metadata": {},
   "outputs": [],
   "source": [
    "df = pd.read_csv(\"IMDB Dataset.csv\")\n",
    "df = df.iloc[:40]"
   ]
  },
  {
   "cell_type": "code",
   "execution_count": 10,
   "id": "d336aa9c",
   "metadata": {},
   "outputs": [],
   "source": [
    "inputs=cv.fit_transform(list).toarray() # review\n",
    "target= df.iloc[:,-1].values #sentiment"
   ]
  },
  {
   "cell_type": "code",
   "execution_count": 26,
   "id": "69229f53",
   "metadata": {},
   "outputs": [
    {
     "data": {
      "text/plain": [
       "array([[0, 0, 0, ..., 0, 0, 0],\n",
       "       [0, 0, 0, ..., 0, 0, 0],\n",
       "       [0, 0, 0, ..., 0, 0, 0],\n",
       "       ...,\n",
       "       [0, 0, 0, ..., 0, 0, 0],\n",
       "       [0, 0, 0, ..., 0, 0, 0],\n",
       "       [0, 0, 0, ..., 0, 0, 0]], dtype=int64)"
      ]
     },
     "execution_count": 26,
     "metadata": {},
     "output_type": "execute_result"
    }
   ],
   "source": [
    "inputs"
   ]
  },
  {
   "cell_type": "code",
   "execution_count": 64,
   "id": "e6795569",
   "metadata": {},
   "outputs": [],
   "source": [
    "from sklearn.model_selection import train_test_split\n",
    "inputs_train, inputs_test, target_train, target_test = train_test_split(inputs,target,train_size=0.8)"
   ]
  },
  {
   "cell_type": "code",
   "execution_count": 65,
   "id": "753c99b4",
   "metadata": {},
   "outputs": [],
   "source": [
    "from sklearn.naive_bayes import GaussianNB"
   ]
  },
  {
   "cell_type": "code",
   "execution_count": 66,
   "id": "b2bb7287",
   "metadata": {},
   "outputs": [
    {
     "data": {
      "text/plain": [
       "GaussianNB()"
      ]
     },
     "execution_count": 66,
     "metadata": {},
     "output_type": "execute_result"
    }
   ],
   "source": [
    "model=GaussianNB()\n",
    "model.fit(inputs_train, target_train)"
   ]
  },
  {
   "cell_type": "code",
   "execution_count": 67,
   "id": "194e8e84",
   "metadata": {},
   "outputs": [
    {
     "data": {
      "text/plain": [
       "0.75"
      ]
     },
     "execution_count": 67,
     "metadata": {},
     "output_type": "execute_result"
    }
   ],
   "source": [
    "model.score(inputs_test, target_test)"
   ]
  },
  {
   "cell_type": "code",
   "execution_count": 68,
   "id": "3a98493b",
   "metadata": {},
   "outputs": [
    {
     "data": {
      "text/plain": [
       "array([0, 0, 1, 0, 1, 0, 1, 1], dtype=int64)"
      ]
     },
     "execution_count": 68,
     "metadata": {},
     "output_type": "execute_result"
    }
   ],
   "source": [
    "model.predict(inputs_test)"
   ]
  },
  {
   "cell_type": "code",
   "execution_count": 69,
   "id": "9ee725cd",
   "metadata": {},
   "outputs": [
    {
     "data": {
      "text/plain": [
       "array([0, 1, 1, 0, 1, 0, 1, 0], dtype=int64)"
      ]
     },
     "execution_count": 69,
     "metadata": {},
     "output_type": "execute_result"
    }
   ],
   "source": [
    "target_test"
   ]
  },
  {
   "cell_type": "code",
   "execution_count": 57,
   "id": "8ab4e45b",
   "metadata": {},
   "outputs": [
    {
     "data": {
      "text/plain": [
       "array([1, 0, 0, 1, 1, 0, 1, 1, 0, 0, 0, 1, 0, 0, 1, 1, 1, 0, 1, 0, 0, 0,\n",
       "       1, 0, 1, 1, 1, 1, 0, 0, 0, 0], dtype=int64)"
      ]
     },
     "execution_count": 57,
     "metadata": {},
     "output_type": "execute_result"
    }
   ],
   "source": [
    "target_train"
   ]
  },
  {
   "cell_type": "code",
   "execution_count": 18,
   "id": "f1483ec6",
   "metadata": {
    "scrolled": true
   },
   "outputs": [
    {
     "data": {
      "text/plain": [
       "array([[0, 0, 0, ..., 0, 0, 0],\n",
       "       [0, 0, 0, ..., 0, 0, 0],\n",
       "       [0, 0, 0, ..., 0, 0, 0],\n",
       "       ...,\n",
       "       [0, 0, 0, ..., 0, 0, 0],\n",
       "       [0, 0, 0, ..., 0, 0, 0],\n",
       "       [0, 0, 0, ..., 0, 0, 0]], dtype=int64)"
      ]
     },
     "execution_count": 18,
     "metadata": {},
     "output_type": "execute_result"
    }
   ],
   "source": [
    "inputs_train"
   ]
  },
  {
   "cell_type": "code",
   "execution_count": null,
   "id": "ccac13d5",
   "metadata": {},
   "outputs": [],
   "source": []
  },
  {
   "cell_type": "code",
   "execution_count": null,
   "id": "e455c548",
   "metadata": {},
   "outputs": [],
   "source": []
  }
 ],
 "metadata": {
  "kernelspec": {
   "display_name": "Python 3 (ipykernel)",
   "language": "python",
   "name": "python3"
  },
  "language_info": {
   "codemirror_mode": {
    "name": "ipython",
    "version": 3
   },
   "file_extension": ".py",
   "mimetype": "text/x-python",
   "name": "python",
   "nbconvert_exporter": "python",
   "pygments_lexer": "ipython3",
   "version": "3.8.5"
  }
 },
 "nbformat": 4,
 "nbformat_minor": 5
}
